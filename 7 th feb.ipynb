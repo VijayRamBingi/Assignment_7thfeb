{
 "cells": [
  {
   "cell_type": "markdown",
   "id": "4e7f9837-69b9-401b-b41e-ddc54de1fbe5",
   "metadata": {},
   "source": [
    "#### Q1. You are writing code for a company. The requirement of the company is that you create a python function that will check whether the password entered by the user is correct or not. The function should take the password as input and return the string “Valid Password” if the entered password follows the below-given password guidelines else it should return “Invalid Password”. \n",
    "#### Note: \n",
    "           1. The Password should contain at least two uppercase letters and at least two lowercase letters.\n",
    "           2. The Password should contain at least a number and three special characters.\n",
    "           3. The length of the password should be 10 characters long."
   ]
  },
  {
   "cell_type": "code",
   "execution_count": 4,
   "id": "068f707f-20f8-42cd-bf74-1f15e4b65626",
   "metadata": {},
   "outputs": [
    {
     "name": "stdin",
     "output_type": "stream",
     "text": [
      "Enter a password:  AAaa@##123\n"
     ]
    },
    {
     "name": "stdout",
     "output_type": "stream",
     "text": [
      "Valid Password\n"
     ]
    }
   ],
   "source": [
    "def check_password(password):\n",
    "    if len(password) != 10:\n",
    "        return \"Invalid Password\"\n",
    "    \n",
    "    uppercase_count = 0\n",
    "    lowercase_count = 0\n",
    "    digit_count = 0\n",
    "    special_char_count = 0\n",
    "    \n",
    "    special_chars = '!@#$%^&*()_-+=<>?'\n",
    "    \n",
    "    for char in password:\n",
    "        if char.isupper():\n",
    "            uppercase_count += 1\n",
    "        elif char.islower():\n",
    "            lowercase_count += 1\n",
    "        elif char.isdigit():\n",
    "            digit_count += 1\n",
    "        elif char in special_chars:\n",
    "            special_char_count += 1\n",
    "    \n",
    "    if uppercase_count >= 2 and lowercase_count >= 2 and digit_count >= 1 and special_char_count >= 3:\n",
    "        return \"Valid Password\"\n",
    "    else:\n",
    "        return \"Invalid Password\"\n",
    "\n",
    "user_password = input(\"Enter a password: \")\n",
    "result = check_password(user_password)\n",
    "print(result)"
   ]
  },
  {
   "cell_type": "code",
   "execution_count": null,
   "id": "418d9406-7dd4-467d-9396-649cb58a691f",
   "metadata": {},
   "outputs": [],
   "source": []
  },
  {
   "cell_type": "markdown",
   "id": "a4f5c802-2e7b-4398-a2ef-5e3bbdd47922",
   "metadata": {},
   "source": [
    "#### Q2. Solve the below-given questions using at least one of the following:\n",
    "1. Lambda function\n",
    "2. Filter function\n",
    "3. Map function\n",
    "4. List Comprehension\n",
    "\n",
    "1) Check if the string starts with a particular letter.\n",
    "2)  Check if the string is numeric.\n",
    "3)  Sort a list of tuples having fruit names and their quantity. [(\"mango\",99),(\"orange\",80), (\"grapes\", 1000))]\n",
    "4) Find the squares of numbers from 1 to 10.\n",
    "5)  Find the cube root of numbers from 1 to 10.\n",
    "6)  Check if a given number is even.\n",
    "7)  Filter odd numbers from the given list.\n",
    "   [1,2,3,4,5,6,7,8,9,10]\n",
    "8)  Sort a list of integers into positive and negative integers lists.\n",
    "   [1,2,3,4,5,6,-1,-2,-3,-4,-5,0]"
   ]
  },
  {
   "cell_type": "code",
   "execution_count": 6,
   "id": "d27b8b99-dbd7-4122-b53a-3bc8d2974ea4",
   "metadata": {},
   "outputs": [
    {
     "name": "stdout",
     "output_type": "stream",
     "text": [
      "True\n",
      "False\n"
     ]
    }
   ],
   "source": [
    "check_starting_letter = lambda text, letter: text.startswith(letter)\n",
    "\n",
    "print(check_starting_letter(\"Vijay\", \"V\")) \n",
    "print(check_starting_letter(\"Ram\", \"p\")) "
   ]
  },
  {
   "cell_type": "code",
   "execution_count": 7,
   "id": "669c26a5-fe00-4c18-a708-7e6ef719ba6b",
   "metadata": {},
   "outputs": [
    {
     "name": "stdout",
     "output_type": "stream",
     "text": [
      "True\n",
      "False\n"
     ]
    }
   ],
   "source": [
    "check_numeric = lambda text: text.isnumeric()\n",
    "\n",
    "print(check_numeric(\"123\"))\n",
    "print(check_numeric(\"abc\")) \n"
   ]
  },
  {
   "cell_type": "code",
   "execution_count": 10,
   "id": "18b071d3-dc3b-40dc-9653-ff29f7dea617",
   "metadata": {},
   "outputs": [
    {
     "name": "stdout",
     "output_type": "stream",
     "text": [
      "[('orange', 80), ('mango', 99), ('grapes', 1000)]\n"
     ]
    }
   ],
   "source": [
    "fruits = [(\"mango\", 99), (\"orange\", 80), (\"grapes\", 1000)]\n",
    "sorted_fruits = sorted(fruits, key=lambda x: x[1])\n",
    "\n",
    "print(sorted_fruits)\n",
    "\n"
   ]
  },
  {
   "cell_type": "code",
   "execution_count": 19,
   "id": "ebef3022-d524-4a2a-83d6-5c1a4094d74a",
   "metadata": {},
   "outputs": [
    {
     "name": "stdout",
     "output_type": "stream",
     "text": [
      "[1, 4, 9, 16, 25, 36, 49, 64, 81, 100]\n"
     ]
    }
   ],
   "source": [
    "squares = [x**2 for x in range(1, 11)]\n",
    "\n",
    "print(squares)"
   ]
  },
  {
   "cell_type": "code",
   "execution_count": 12,
   "id": "8ff2378f-a2f4-48fe-95c2-d439b453c662",
   "metadata": {},
   "outputs": [
    {
     "name": "stdout",
     "output_type": "stream",
     "text": [
      "[1.0, 1.2599210498948732, 1.4422495703074083, 1.5874010519681994, 1.7099759466766968, 1.8171205928321397, 1.912931182772389, 2.0, 2.080083823051904, 2.154434690031884]\n"
     ]
    }
   ],
   "source": [
    "cuberoot = [x**(1/3) for x in range(1, 11)]\n",
    "\n",
    "print(cuberoot)"
   ]
  },
  {
   "cell_type": "code",
   "execution_count": 13,
   "id": "2d1f8b2e-5888-4289-9adf-955b4d16d9f2",
   "metadata": {},
   "outputs": [
    {
     "name": "stdout",
     "output_type": "stream",
     "text": [
      "True\n",
      "False\n"
     ]
    }
   ],
   "source": [
    "even = lambda num: num % 2 == 0\n",
    "\n",
    "print(even(4)) \n",
    "print(even(7))"
   ]
  },
  {
   "cell_type": "code",
   "execution_count": 20,
   "id": "712d7167-f0b3-4843-8ea4-9ece7ce4d823",
   "metadata": {},
   "outputs": [
    {
     "name": "stdout",
     "output_type": "stream",
     "text": [
      "[1, 3, 5, 7, 9]\n"
     ]
    }
   ],
   "source": [
    "numbers = [1, 2, 3, 4, 5, 6, 7, 8, 9, 10]\n",
    "odd_numbers = list(filter(lambda x: x % 2 != 0, numbers))\n",
    "\n",
    "print(odd_numbers)"
   ]
  },
  {
   "cell_type": "code",
   "execution_count": 22,
   "id": "6009e98b-f2a0-4747-888f-df3712362657",
   "metadata": {},
   "outputs": [
    {
     "name": "stdout",
     "output_type": "stream",
     "text": [
      "[1, 2, 3, 4, 5, 6]\n",
      "[-1, -2, -3, -4, -5]\n"
     ]
    }
   ],
   "source": [
    "numbers = [1, 2, 3, 4, 5, 6, -1, -2, -3, -4, -5, 0]\n",
    "\n",
    "positive_numbers = list(filter(lambda num: num > 0, numbers))\n",
    "negative_numbers = list(filter(lambda num: num < 0, numbers))\n",
    "\n",
    "print(positive_numbers)\n",
    "print(negative_numbers)\n",
    "\n"
   ]
  },
  {
   "cell_type": "code",
   "execution_count": null,
   "id": "e16bfd28-62ae-416b-9f30-c29c6209cad1",
   "metadata": {},
   "outputs": [],
   "source": []
  }
 ],
 "metadata": {
  "kernelspec": {
   "display_name": "Python 3 (ipykernel)",
   "language": "python",
   "name": "python3"
  },
  "language_info": {
   "codemirror_mode": {
    "name": "ipython",
    "version": 3
   },
   "file_extension": ".py",
   "mimetype": "text/x-python",
   "name": "python",
   "nbconvert_exporter": "python",
   "pygments_lexer": "ipython3",
   "version": "3.10.8"
  }
 },
 "nbformat": 4,
 "nbformat_minor": 5
}
